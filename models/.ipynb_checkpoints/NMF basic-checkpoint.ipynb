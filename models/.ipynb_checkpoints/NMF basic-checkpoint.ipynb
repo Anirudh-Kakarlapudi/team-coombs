{
 "cells": [
  {
   "cell_type": "markdown",
   "metadata": {},
   "source": [
    "# Non negative Matrix Factorization(NMF)\n",
    "\n",
    "* Download the [Thunder](http://docs.thunder-project.org/introduction) package using the following commands\n",
    "    * `pip install thunder-python`\n",
    "    * `pip install thunder-extraction`\n",
    "* Download the test dataset and run this code.\n",
    "* The below NMF code is a brief example implemented by [freeman lab](https://gist.github.com/freeman-lab/330183fdb0ea7f4103deddc9fae18113) for this very dataset"
   ]
  },
  {
   "cell_type": "code",
   "execution_count": 1,
   "metadata": {},
   "outputs": [
    {
     "name": "stdout",
     "output_type": "stream",
     "text": [
      "processing dataset: 00.00.test\n",
      "loading\n",
      "analyzing\n",
      "found 155 regions\n",
      "processing dataset: 00.01.test\n",
      "loading\n",
      "analyzing\n",
      "found 185 regions\n",
      "writing results\n",
      "Wall time: 6min 7s\n"
     ]
    }
   ],
   "source": [
    "%%time\n",
    "import json\n",
    "import thunder as td\n",
    "from extraction import NMF\n",
    "import os\n",
    "\n",
    "# change the directory to the test directory \n",
    "os.chdir('e:/project3/test/')\n",
    "\n",
    "datasets = ['00.00.test','00.01.test']\n",
    "# datasets = ['00.00.test','00.01.test','01.00.test','01.01.test','02.00.test','02.01.test','03.00.test','04.00.test','04.01.test']\n",
    "\n",
    "submission = []\n",
    "\n",
    "for dataset in datasets:\n",
    "    print('processing dataset: %s' % dataset)\n",
    "    print('loading')\n",
    "    path = 'neurofinder.' + dataset\n",
    "    data = td.images.fromtif(path + '/images', ext='tiff')\n",
    "    print('analyzing')\n",
    "    #algorithm = NMF(k=5, percentile=99, max_iter=50, overlap=0.1)\n",
    "    algorithm = NMF(k=5, percentile=99, max_iter=10, overlap=0.1)\n",
    "    model = algorithm.fit(data, chunk_size=(50,50), padding=(25,25))\n",
    "    merged = model.merge(0.1)\n",
    "    print('found %g regions' % merged.regions.count)\n",
    "    regions = [{'coordinates': region.coordinates.tolist()} for region in merged.regions]\n",
    "    result = {'dataset': dataset, 'regions': regions}\n",
    "    submission.append(result)\n",
    "\n",
    "print('writing results')\n",
    "with open('submission3.json', 'w') as f:\n",
    "    f.write(json.dumps(submission))"
   ]
  },
  {
   "cell_type": "code",
   "execution_count": null,
   "metadata": {},
   "outputs": [],
   "source": []
  }
 ],
 "metadata": {
  "kernelspec": {
   "display_name": "Python 3",
   "language": "python",
   "name": "python3"
  },
  "language_info": {
   "codemirror_mode": {
    "name": "ipython",
    "version": 3
   },
   "file_extension": ".py",
   "mimetype": "text/x-python",
   "name": "python",
   "nbconvert_exporter": "python",
   "pygments_lexer": "ipython3",
   "version": "3.7.1"
  }
 },
 "nbformat": 4,
 "nbformat_minor": 2
}
